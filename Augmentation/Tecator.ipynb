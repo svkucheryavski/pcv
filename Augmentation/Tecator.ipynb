{
 "cells": [
  {
   "cell_type": "markdown",
   "metadata": {},
   "source": [
    "# Tecator experiments\n",
    "\n",
    "This is a Jupytor notebook that reproduces some of the results shown in paper \"Collinear datasets augmentation using Procrustes validation sets\" (in a more simple form).  \n",
    "\n",
    "First we load packages and define ANN regression model for Tecator experiments."
   ]
  },
  {
   "cell_type": "code",
   "execution_count": 3,
   "metadata": {},
   "outputs": [],
   "source": [
    "import torch\n",
    "import torch.nn as nn\n",
    "import numpy as np\n",
    "import matplotlib.pyplot as plt\n",
    "\n",
    "from torch.utils.data import DataLoader, TensorDataset\n",
    "from prcv.methods import pcvpls\n",
    "from pandas import read_csv\n",
    "from math import sqrt\n",
    "\n",
    "# ANN learning parameters\n",
    "N_EPOCH = 300    # number of epochs\n",
    "LR = 0.0001      # learning rate\n",
    "BATCH_SIZE = 10  # batch size\n",
    "\n",
    "device = 'cuda' if torch.cuda.is_available() else 'cpu'\n",
    "\n",
    "# class for ANN model\n",
    "class ANNModel(nn.Module):\n",
    "    def __init__(self):\n",
    "        super(ANNModel, self).__init__()\n",
    "        self.fc1 = nn.Linear(in_features=100, out_features=150)\n",
    "        self.fc2 = nn.Linear(in_features=150, out_features=200)\n",
    "        self.fc3 = nn.Linear(in_features=200, out_features=150)\n",
    "        self.fc4 = nn.Linear(in_features=150, out_features=100)\n",
    "        self.fc5 = nn.Linear(in_features=100, out_features=50)\n",
    "        self.fc6 = nn.Linear(in_features=50, out_features=1)\n",
    "\n",
    "    def forward(self, x):\n",
    "        x = self.fc1(x)\n",
    "        x = nn.functional.relu(x)\n",
    "        x = self.fc2(x)\n",
    "        x = nn.functional.relu(x)\n",
    "        x = self.fc3(x)\n",
    "        x = nn.functional.relu(x)\n",
    "        x = self.fc4(x)\n",
    "        x = nn.functional.relu(x)\n",
    "        x = self.fc5(x)\n",
    "        x = nn.functional.relu(x)\n",
    "        x = self.fc6(x)\n",
    "        return x\n",
    "\n",
    "# method for making predictions (returns predicted response values, RMSE and R2)\n",
    "def predict(model, X, Y):\n",
    "    X_tensor = torch.from_numpy(X).float().to(device)\n",
    "    Yp_tensor = model(X_tensor)\n",
    "    Yp = Yp_tensor.detach().cpu().numpy()\n",
    "    SSE = np.sum((Y - Yp)**2)\n",
    "    SSY = np.sum((Y - Y.mean())**2)\n",
    "    RMSE = sqrt(SSE / X.shape[0])\n",
    "    R2 = 1 - SSE/SSY\n",
    "\n",
    "    return Yp, RMSE, R2\n",
    "\n",
    "# method for counting all model parameters\n",
    "def count_parameters(model):\n",
    "    return sum(p.numel() for p in model.parameters() if p.requires_grad)"
   ]
  },
  {
   "cell_type": "code",
   "execution_count": 4,
   "metadata": {},
   "outputs": [
    {
     "data": {
      "text/plain": [
       "95701"
      ]
     },
     "execution_count": 4,
     "metadata": {},
     "output_type": "execute_result"
    }
   ],
   "source": [
    "# initialize model and show number of parameters\n",
    "model = ANNModel()\n",
    "count_parameters(model)"
   ]
  },
  {
   "cell_type": "markdown",
   "metadata": {},
   "source": [
    "Function which generates `n` PV-sets using PLS based algorithm with `ncomp` components and random splits into `nseg` segments and then train the ANN model based on the augmented data. If `n = 0` model will be trained using the original training set, without augmentation."
   ]
  },
  {
   "cell_type": "code",
   "execution_count": 5,
   "metadata": {},
   "outputs": [],
   "source": [
    "def doit(Xc, Yc, n, ncomp, nseg):\n",
    "\n",
    "    # initially augmented training set is the same as the original one\n",
    "    Xc_aug = Xc\n",
    "    Yc_aug = Yc\n",
    "\n",
    "    if (n > 0):\n",
    "        # loop for generation of additional data points using PCV for PLS and adding them\n",
    "        # to the training set\n",
    "        cv = {'type': 'rand', 'nseg': nseg}\n",
    "        for i in range(n):\n",
    "            Xpv, D = pcvpls(Xc, Yc, ncomp = ncomp, center = True, scale = False, cv = cv)\n",
    "            Xc_aug = np.concatenate((Xc_aug, Xpv), axis = 0)\n",
    "            Yc_aug = np.concatenate((Yc_aug, Yc), axis = 0)\n",
    "\n",
    "    # turn training set to Torch tensors\n",
    "    Xc_tensor = torch.from_numpy(Xc_aug).float().to(device)\n",
    "    Yc_tensor = torch.from_numpy(Yc_aug).float().to(device)\n",
    "\n",
    "    # create Torch dataset and data loader with given batch size\n",
    "    cal = TensorDataset(Xc_tensor, Yc_tensor)\n",
    "    cal_loader = DataLoader(cal, batch_size = BATCH_SIZE, shuffle = True)\n",
    "\n",
    "    # learning using given number of epochs and learning rate\n",
    "    model = ANNModel().to(device)\n",
    "    criterion = nn.MSELoss()\n",
    "    optimizer = torch.optim.Adam(model.parameters(), lr = LR)\n",
    "    losses = np.zeros(N_EPOCH, dtype = np.float64)\n",
    "    for epoch in range(N_EPOCH):\n",
    "        for i, (inputs, targets) in enumerate(cal_loader):\n",
    "            # zero the gradients\n",
    "            optimizer.zero_grad()\n",
    "\n",
    "            # forward pass\n",
    "            outputs = model(inputs)\n",
    "            loss = criterion(outputs, targets)\n",
    "            losses[epoch] += loss\n",
    "\n",
    "            # backward pass and optimization\n",
    "            loss.backward()\n",
    "            optimizer.step()\n",
    "\n",
    "    return model, losses"
   ]
  },
  {
   "cell_type": "markdown",
   "metadata": {},
   "source": [
    "Load, split and preprocess Tecator dataset."
   ]
  },
  {
   "cell_type": "code",
   "execution_count": 7,
   "metadata": {},
   "outputs": [],
   "source": [
    "# load data from CSV file and split to X and Y\n",
    "d = read_csv('./Tecator.csv', delimiter=\";\", decimal=\",\")\n",
    "Y = d.iloc[0:215, 1:2].to_numpy()\n",
    "X = d.iloc[0:215, 2:102].to_numpy()\n",
    "\n",
    "# calibration (training) set\n",
    "Xc = X[0:170, ]\n",
    "Yc = Y[0:170, ]\n",
    "\n",
    "# test set\n",
    "Xt = X[170:215, ]\n",
    "Yt = Y[170:215, ]\n",
    "\n",
    "# compute mean and standard deviation for training set predictors\n",
    "mXc = Xc.mean(axis=0)\n",
    "sXc = Xc.std(axis=0)\n",
    "\n",
    "# standardize both sets\n",
    "Xc = (Xc - mXc) / sXc\n",
    "Xt = (Xt - mXc) / sXc\n",
    "\n",
    "# compute mean of training set response\n",
    "mYc = Yc.mean(axis=0)\n",
    "sYc = Yc.std(axis=0)\n",
    "\n",
    "# mean center responses\n",
    "Yc = (Yc - mYc)\n",
    "Yt = (Yt - mYc)"
   ]
  },
  {
   "cell_type": "markdown",
   "metadata": {},
   "source": [
    "Create two models. Model 1 is based on original training set. Model 2 is based on training set augmented with 10 PV-sets computed using 10 latent variables and cross-validation splits with 10 segments."
   ]
  },
  {
   "cell_type": "code",
   "execution_count": 8,
   "metadata": {},
   "outputs": [],
   "source": [
    "\n",
    "model1, losses1 = doit(Xc, Yc,  0,  0,  0)\n",
    "model2, losses2 = doit(Xc, Yc, 10, 10, 10)"
   ]
  },
  {
   "cell_type": "markdown",
   "metadata": {},
   "source": [
    "Use both models to get predictions for the test set."
   ]
  },
  {
   "cell_type": "code",
   "execution_count": 9,
   "metadata": {},
   "outputs": [
    {
     "name": "stdout",
     "output_type": "stream",
     "text": [
      "3.428481518744814 0.9367959597419779\n",
      "1.0722756881393958 0.9938176422264953\n"
     ]
    }
   ],
   "source": [
    "Yp1, RMSE1, R21 = predict(model1, Xt, Yt)\n",
    "Yp2, RMSE2, R22 = predict(model2, Xt, Yt)\n",
    "print(RMSE1, R21)\n",
    "print(RMSE2, R22)"
   ]
  },
  {
   "cell_type": "markdown",
   "metadata": {},
   "source": [
    "Now we repeat the training/test procedure 10 times, save all RMSE (this will take some time)."
   ]
  },
  {
   "cell_type": "code",
   "execution_count": 13,
   "metadata": {},
   "outputs": [
    {
     "name": "stdout",
     "output_type": "stream",
     "text": [
      "0 0.9269046371785725 0.9916350643120982\n",
      "1 0.9269002203828312 0.9910722355109596\n",
      "2 0.9260847223024962 0.9909522662669333\n",
      "3 0.925316892190169 0.9915229377504476\n",
      "4 0.9261514320879898 0.9906851332143332\n",
      "5 0.9190942108732386 0.9915053286024021\n",
      "6 0.9142863343989887 0.993060172254081\n",
      "7 0.915745324985064 0.9926044222850111\n",
      "8 0.9245070480469515 0.9923687692603494\n",
      "9 0.9229112111133343 0.9922593625433037\n"
     ]
    }
   ],
   "source": [
    "n = 10\n",
    "RMSE1_v = np.zeros(n)\n",
    "RMSE2_v = np.zeros(n)\n",
    "for i in range(n):\n",
    "    model1, losses1 = doit(Xc, Yc,  0,  0,  0)\n",
    "    model2, losses2 = doit(Xc, Yc, 10, 10, 10)\n",
    "    Yp1, RMSE1_v[i], R21 = predict(model1, Xt, Yt)\n",
    "    Yp2, RMSE2_v[i], R22 = predict(model2, Xt, Yt)\n",
    "    print(i, R21, R22)"
   ]
  },
  {
   "cell_type": "markdown",
   "metadata": {},
   "source": [
    "Compare the results visually."
   ]
  },
  {
   "cell_type": "code",
   "execution_count": 16,
   "metadata": {},
   "outputs": [
    {
     "data": {
      "image/png": "[encoded data removed]",
      "text/plain": [
       "<Figure size 640x480 with 1 Axes>"
      ]
     },
     "metadata": {},
     "output_type": "display_data"
    }
   ],
   "source": [
    "p = plt.boxplot(np.column_stack((RMSE1_v, RMSE2_v)), labels = [\"No augmentation\", \"Augmented\"])"
   ]
  }
 ],
 "metadata": {
  "kernelspec": {
   "display_name": "Python 3",
   "language": "python",
   "name": "python3"
  },
  "language_info": {
   "codemirror_mode": {
    "name": "ipython",
    "version": 3
   },
   "file_extension": ".py",
   "mimetype": "text/x-python",
   "name": "python",
   "nbconvert_exporter": "python",
   "pygments_lexer": "ipython3",
   "version": "3.10.12"
  }
 },
 "nbformat": 4,
 "nbformat_minor": 2
}
